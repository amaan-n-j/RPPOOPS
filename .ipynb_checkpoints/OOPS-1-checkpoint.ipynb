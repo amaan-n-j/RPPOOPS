{
 "cells": [
  {
   "cell_type": "code",
   "execution_count": 2,
   "id": "020ef0b2",
   "metadata": {},
   "outputs": [],
   "source": [
    "class GrandParent:\n",
    "    def __init__(self):\n",
    "        print(\"I am a Grand Parent\")\n",
    "    def FirstGen(self):\n",
    "        return \"I used to work as farmer\"\n",
    "class Parent1(GrandParent):\n",
    "    def __init__(self):\n",
    "        print(\"I am parent1\")\n",
    "    def SecondGen(self):\n",
    "        return \" work as a Teacher\"\n",
    "class Parent2(GrandParent):\n",
    "    def __init__(self):\n",
    "        print(\"I am parent2\")\n",
    "    def SecondGen(self):\n",
    "        return \" work as a Professor\"\n",
    "class child1(Parent1,Parent2):\n",
    "    def __init__(self):\n",
    "        print(\"I am child1\")\n",
    "    def ThirdGen(self):\n",
    "        return \" is an Engineer\"\n",
    "class child2(Parent1,Parent2):\n",
    "    def __init__(self):\n",
    "        print(\"I am child2\")\n",
    "    def ThirdGen(self):\n",
    "        return \" is a Doctor\"\n",
    "    "
   ]
  },
  {
   "cell_type": "code",
   "execution_count": 3,
   "id": "61fdf697",
   "metadata": {},
   "outputs": [
    {
     "name": "stdout",
     "output_type": "stream",
     "text": [
      "I am a Grand Parent\n",
      "I am parent1\n",
      "I am parent2\n",
      "I am child1\n",
      "I am child2\n"
     ]
    }
   ],
   "source": [
    "GPobj = GrandParent()\n",
    "Pobj1 = Parent1()\n",
    "Pobj2 = Parent2()\n",
    "Cobj1 = child1()\n",
    "Cobj2 = child2()"
   ]
  },
  {
   "cell_type": "code",
   "execution_count": 5,
   "id": "4b0c98fd",
   "metadata": {},
   "outputs": [
    {
     "name": "stdout",
     "output_type": "stream",
     "text": [
      "Enter \n",
      " 1 : Single inheritance,\n",
      " 2 : multiple inheritance,\n",
      " 3 : multi-level inheritance,\n",
      " 4 : for hierarchical inheritance,\n",
      " 5 : hybrid in heritance, \n",
      " -1 to end-1\n",
      "ending the loop\n"
     ]
    }
   ],
   "source": [
    "while True:\n",
    "    i = int(input(\"Enter \\n 1 : Single inheritance,\\n 2 : multiple inheritance,\\n 3 : multi-level inheritance,\\n 4 : for hierarchical inheritance,\\n 5 : hybrid in heritance, \\n -1 to end\"))\n",
    "    if i==1:\n",
    "        GPobj.__init__()\n",
    "        print(\"My child\"+Pobj1.SecondGen())\n",
    "    elif i==2:\n",
    "        Cobj1.__init__()\n",
    "        print(\"My parent\"+Pobj1.SecondGen())\n",
    "        print(\"My parent\"+Pobj2.SecondGen())\n",
    "    elif i==3:\n",
    "        GPobj.__init__()\n",
    "        print(\"My child1\"+Pobj1.SecondGen())\n",
    "        print(\"My grandchild1\"+Cobj1.ThirdGen())\n",
    "    elif i==4:\n",
    "        GPobj.__init__()\n",
    "        print(\"My child\"+Pobj1.SecondGen())\n",
    "        print(\"My child\"+Pobj2.SecondGen())\n",
    "    elif i==5:\n",
    "        GPobj.__init__()\n",
    "        print(\"My child\"+Pobj1.SecondGen())\n",
    "        print(\"My child\"+Pobj2.SecondGen())\n",
    "        print(\"My grandchild1\"+Cobj1.ThirdGen())\n",
    "        print(\"My grandchild1\"+Cobj2.ThirdGen())\n",
    "    else:\n",
    "        print(\"ending the loop\")\n",
    "        break"
   ]
  },
  {
   "cell_type": "code",
   "execution_count": null,
   "id": "5a0c67a5",
   "metadata": {},
   "outputs": [],
   "source": []
  }
 ],
 "metadata": {
  "kernelspec": {
   "display_name": "Python 3 (ipykernel)",
   "language": "python",
   "name": "python3"
  },
  "language_info": {
   "codemirror_mode": {
    "name": "ipython",
    "version": 3
   },
   "file_extension": ".py",
   "mimetype": "text/x-python",
   "name": "python",
   "nbconvert_exporter": "python",
   "pygments_lexer": "ipython3",
   "version": "3.9.7"
  }
 },
 "nbformat": 4,
 "nbformat_minor": 5
}
