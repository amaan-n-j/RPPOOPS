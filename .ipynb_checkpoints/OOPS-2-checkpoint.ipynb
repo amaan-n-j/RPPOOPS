{
 "cells": [
  {
   "cell_type": "code",
   "execution_count": 1,
   "id": "849c0239",
   "metadata": {},
   "outputs": [],
   "source": [
    "class Vector:\n",
    "    def __init__(self, x, y):\n",
    "        self.x = x\n",
    "        self.y = y\n",
    "    \n",
    "    def __add__(self, other):\n",
    "        return Vector(self.x + other.x, self.y + other.y)\n",
    "    \n",
    "    def __sub__(self, other):\n",
    "        return Vector(self.x - other.x, self.y - other.y)\n",
    "    \n",
    "    def __mul__(self, other):\n",
    "        if isinstance(other, (int, float)):\n",
    "            return Vector(self.x * other, self.y * other)\n",
    "        elif isinstance(other, Vector):\n",
    "            return Vector(self.x * other.x, self.y * other.y)\n",
    "        else:\n",
    "            raise TypeError(\"Unsupported operand type for *\")\n",
    "    \n",
    "    def __eq__(self, other):\n",
    "        return self.x == other.x and self.y == other.y\n",
    "    \n",
    "class MethodOverloading:\n",
    "    def __init__(self):\n",
    "        print(\"this is an example of method overloading\")\n",
    "    def func(self,x=0,y=0):\n",
    "        if x==0 and y==0:\n",
    "            print(\"first case, when parameters not given\")\n",
    "        elif x!=0 and y==0:\n",
    "            fact = 1\n",
    "            for i in range(1,max(x,y)+1):\n",
    "                fact = fact*i\n",
    "            print(\"when one parameter is given(factorial):\",fact)\n",
    "        else:\n",
    "            print(\"when both parameters are given(addition):\",x+y)\n",
    "class water:\n",
    "    def printing(self):\n",
    "        print(\"hellow world\")\n",
    "class waterBodies(water):\n",
    "    def printing(self):\n",
    "        print(\"i'm a river\")"
   ]
  },
  {
   "cell_type": "code",
   "execution_count": null,
   "id": "b2c8bac2",
   "metadata": {},
   "outputs": [],
   "source": [
    "while True:\n",
    "    i = int(input(\"Enter\\n 1 : operator overloading,\\n 2 : method overloading,\\n 3 : method overriding,\\n -1 : end\"))\n",
    "    if i==1:\n",
    "        obj1 = Vector(2,4)\n",
    "        obj2 = Vector(9,11)\n",
    "        obj3 = obj1+obj2\n",
    "        print(obj3.x,obj3.y)\n",
    "        obj3 = obj1-obj2\n",
    "        print(obj3.x,obj3.y)\n",
    "        obj3 = obj1*obj2\n",
    "        print(obj3.x,obj3.y)\n",
    "        obj3 = obj1==obj2\n",
    "        print(obj3)\n",
    "    elif i==2:\n",
    "        obj = MethodOverloading()\n",
    "        obj.func()\n",
    "        obj.func(10)\n",
    "        obj.func(10,11)\n",
    "    elif i==3:\n",
    "        obj3 = water()\n",
    "        obj4 = waterBodies()\n",
    "        obj3.printing()\n",
    "        obj4.printing()\n",
    "    else:\n",
    "        print(\"ending the loop\")\n",
    "        break"
   ]
  },
  {
   "cell_type": "code",
   "execution_count": null,
   "id": "f5ac8c28",
   "metadata": {},
   "outputs": [],
   "source": []
  }
 ],
 "metadata": {
  "kernelspec": {
   "display_name": "Python 3 (ipykernel)",
   "language": "python",
   "name": "python3"
  },
  "language_info": {
   "codemirror_mode": {
    "name": "ipython",
    "version": 3
   },
   "file_extension": ".py",
   "mimetype": "text/x-python",
   "name": "python",
   "nbconvert_exporter": "python",
   "pygments_lexer": "ipython3",
   "version": "3.9.7"
  }
 },
 "nbformat": 4,
 "nbformat_minor": 5
}
